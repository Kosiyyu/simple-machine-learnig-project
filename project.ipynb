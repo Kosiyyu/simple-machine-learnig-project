{
 "cells": [
  {
   "cell_type": "code",
   "execution_count": 1,
   "metadata": {},
   "outputs": [],
   "source": [
    "import pandas as pd\n",
    "import tensorflow as tf"
   ]
  },
  {
   "cell_type": "code",
   "execution_count": 2,
   "metadata": {},
   "outputs": [],
   "source": [
    "# Load the dataset from the CSV file\n",
    "iris_data = pd.read_csv(\n",
    "    'iris.data',\n",
    "     header=None,\n",
    "      names=[\n",
    "        'sepal_length',\n",
    "         'sepal_width',\n",
    "          'petal_length',\n",
    "           'petal_width',\n",
    "            'species'],\n",
    "             sep=','\n",
    "    )"
   ]
  },
  {
   "cell_type": "code",
   "execution_count": 3,
   "metadata": {},
   "outputs": [],
   "source": [
    "# Split the dataset into features and labels\n",
    "features = iris_data.drop('species', axis=1)\n",
    "labels = pd.get_dummies(iris_data['species'])"
   ]
  },
  {
   "cell_type": "code",
   "execution_count": 4,
   "metadata": {},
   "outputs": [],
   "source": [
    "# Define the neural network architecture\n",
    "model = tf.keras.models.Sequential([\n",
    "    tf.keras.layers.Dense(10, activation='relu', input_shape=(4,)),\n",
    "    tf.keras.layers.Dense(3, activation='softmax')\n",
    "])"
   ]
  },
  {
   "cell_type": "code",
   "execution_count": 11,
   "metadata": {},
   "outputs": [],
   "source": [
    "# Compile the model with an appropriate loss function and optimizer\n",
    "model.compile(loss='mean_squared_error', optimizer='adam', metrics=['accuracy'])"
   ]
  },
  {
   "cell_type": "code",
   "execution_count": 12,
   "metadata": {},
   "outputs": [
    {
     "name": "stdout",
     "output_type": "stream",
     "text": [
      "Epoch 1/50\n",
      "4/4 [==============================] - 0s 33ms/step - loss: 0.0175 - accuracy: 0.9833 - val_loss: 0.1155 - val_accuracy: 0.7000\n",
      "Epoch 2/50\n",
      "4/4 [==============================] - 0s 7ms/step - loss: 0.0169 - accuracy: 0.9833 - val_loss: 0.1012 - val_accuracy: 0.7000\n",
      "Epoch 3/50\n",
      "4/4 [==============================] - 0s 8ms/step - loss: 0.0167 - accuracy: 0.9750 - val_loss: 0.0952 - val_accuracy: 0.7333\n",
      "Epoch 4/50\n",
      "4/4 [==============================] - 0s 11ms/step - loss: 0.0167 - accuracy: 0.9750 - val_loss: 0.0930 - val_accuracy: 0.7333\n",
      "Epoch 5/50\n",
      "4/4 [==============================] - 0s 11ms/step - loss: 0.0165 - accuracy: 0.9750 - val_loss: 0.0948 - val_accuracy: 0.7333\n",
      "Epoch 6/50\n",
      "4/4 [==============================] - 0s 11ms/step - loss: 0.0163 - accuracy: 0.9750 - val_loss: 0.0982 - val_accuracy: 0.7333\n",
      "Epoch 7/50\n",
      "4/4 [==============================] - 0s 11ms/step - loss: 0.0162 - accuracy: 0.9833 - val_loss: 0.1030 - val_accuracy: 0.7000\n",
      "Epoch 8/50\n",
      "4/4 [==============================] - 0s 11ms/step - loss: 0.0161 - accuracy: 0.9833 - val_loss: 0.1049 - val_accuracy: 0.7000\n",
      "Epoch 9/50\n",
      "4/4 [==============================] - 0s 11ms/step - loss: 0.0160 - accuracy: 0.9833 - val_loss: 0.1060 - val_accuracy: 0.7000\n",
      "Epoch 10/50\n",
      "4/4 [==============================] - 0s 13ms/step - loss: 0.0159 - accuracy: 0.9833 - val_loss: 0.1082 - val_accuracy: 0.7000\n",
      "Epoch 11/50\n",
      "4/4 [==============================] - 0s 13ms/step - loss: 0.0158 - accuracy: 0.9833 - val_loss: 0.1096 - val_accuracy: 0.7000\n",
      "Epoch 12/50\n",
      "4/4 [==============================] - 0s 11ms/step - loss: 0.0157 - accuracy: 0.9833 - val_loss: 0.1081 - val_accuracy: 0.7000\n",
      "Epoch 13/50\n",
      "4/4 [==============================] - 0s 11ms/step - loss: 0.0156 - accuracy: 0.9833 - val_loss: 0.1050 - val_accuracy: 0.7000\n",
      "Epoch 14/50\n",
      "4/4 [==============================] - 0s 11ms/step - loss: 0.0154 - accuracy: 0.9833 - val_loss: 0.0994 - val_accuracy: 0.7000\n",
      "Epoch 15/50\n",
      "4/4 [==============================] - 0s 11ms/step - loss: 0.0153 - accuracy: 0.9750 - val_loss: 0.0969 - val_accuracy: 0.7333\n",
      "Epoch 16/50\n",
      "4/4 [==============================] - 0s 11ms/step - loss: 0.0153 - accuracy: 0.9750 - val_loss: 0.0978 - val_accuracy: 0.7333\n",
      "Epoch 17/50\n",
      "4/4 [==============================] - 0s 8ms/step - loss: 0.0152 - accuracy: 0.9750 - val_loss: 0.0969 - val_accuracy: 0.7333\n",
      "Epoch 18/50\n",
      "4/4 [==============================] - 0s 11ms/step - loss: 0.0151 - accuracy: 0.9750 - val_loss: 0.1000 - val_accuracy: 0.7000\n",
      "Epoch 19/50\n",
      "4/4 [==============================] - 0s 11ms/step - loss: 0.0150 - accuracy: 0.9833 - val_loss: 0.1024 - val_accuracy: 0.7000\n",
      "Epoch 20/50\n",
      "4/4 [==============================] - 0s 11ms/step - loss: 0.0150 - accuracy: 0.9833 - val_loss: 0.1022 - val_accuracy: 0.7000\n",
      "Epoch 21/50\n",
      "4/4 [==============================] - 0s 11ms/step - loss: 0.0149 - accuracy: 0.9833 - val_loss: 0.1074 - val_accuracy: 0.7000\n",
      "Epoch 22/50\n",
      "4/4 [==============================] - 0s 11ms/step - loss: 0.0148 - accuracy: 0.9833 - val_loss: 0.1059 - val_accuracy: 0.7000\n",
      "Epoch 23/50\n",
      "4/4 [==============================] - 0s 11ms/step - loss: 0.0147 - accuracy: 0.9833 - val_loss: 0.0999 - val_accuracy: 0.7000\n",
      "Epoch 24/50\n",
      "4/4 [==============================] - 0s 11ms/step - loss: 0.0146 - accuracy: 0.9833 - val_loss: 0.0974 - val_accuracy: 0.7333\n",
      "Epoch 25/50\n",
      "4/4 [==============================] - 0s 11ms/step - loss: 0.0146 - accuracy: 0.9750 - val_loss: 0.0928 - val_accuracy: 0.7333\n",
      "Epoch 26/50\n",
      "4/4 [==============================] - 0s 11ms/step - loss: 0.0145 - accuracy: 0.9750 - val_loss: 0.0930 - val_accuracy: 0.7333\n",
      "Epoch 27/50\n",
      "4/4 [==============================] - 0s 8ms/step - loss: 0.0145 - accuracy: 0.9750 - val_loss: 0.0980 - val_accuracy: 0.7333\n",
      "Epoch 28/50\n",
      "4/4 [==============================] - 0s 11ms/step - loss: 0.0143 - accuracy: 0.9833 - val_loss: 0.0980 - val_accuracy: 0.7333\n",
      "Epoch 29/50\n",
      "4/4 [==============================] - 0s 11ms/step - loss: 0.0142 - accuracy: 0.9833 - val_loss: 0.0978 - val_accuracy: 0.7333\n",
      "Epoch 30/50\n",
      "4/4 [==============================] - 0s 8ms/step - loss: 0.0142 - accuracy: 0.9833 - val_loss: 0.0981 - val_accuracy: 0.7333\n",
      "Epoch 31/50\n",
      "4/4 [==============================] - 0s 11ms/step - loss: 0.0141 - accuracy: 0.9833 - val_loss: 0.0994 - val_accuracy: 0.7000\n",
      "Epoch 32/50\n",
      "4/4 [==============================] - 0s 9ms/step - loss: 0.0141 - accuracy: 0.9833 - val_loss: 0.1024 - val_accuracy: 0.7000\n",
      "Epoch 33/50\n",
      "4/4 [==============================] - 0s 8ms/step - loss: 0.0140 - accuracy: 0.9833 - val_loss: 0.1020 - val_accuracy: 0.7000\n",
      "Epoch 34/50\n",
      "4/4 [==============================] - 0s 8ms/step - loss: 0.0140 - accuracy: 0.9833 - val_loss: 0.1022 - val_accuracy: 0.7000\n",
      "Epoch 35/50\n",
      "4/4 [==============================] - 0s 8ms/step - loss: 0.0139 - accuracy: 0.9833 - val_loss: 0.0985 - val_accuracy: 0.7333\n",
      "Epoch 36/50\n",
      "4/4 [==============================] - 0s 11ms/step - loss: 0.0138 - accuracy: 0.9833 - val_loss: 0.0987 - val_accuracy: 0.7333\n",
      "Epoch 37/50\n",
      "4/4 [==============================] - 0s 7ms/step - loss: 0.0138 - accuracy: 0.9833 - val_loss: 0.0991 - val_accuracy: 0.7000\n",
      "Epoch 38/50\n",
      "4/4 [==============================] - 0s 8ms/step - loss: 0.0138 - accuracy: 0.9750 - val_loss: 0.0956 - val_accuracy: 0.7333\n",
      "Epoch 39/50\n",
      "4/4 [==============================] - 0s 8ms/step - loss: 0.0137 - accuracy: 0.9833 - val_loss: 0.0984 - val_accuracy: 0.7333\n",
      "Epoch 40/50\n",
      "4/4 [==============================] - 0s 11ms/step - loss: 0.0136 - accuracy: 0.9833 - val_loss: 0.1004 - val_accuracy: 0.7000\n",
      "Epoch 41/50\n",
      "4/4 [==============================] - 0s 11ms/step - loss: 0.0136 - accuracy: 0.9833 - val_loss: 0.1022 - val_accuracy: 0.7000\n",
      "Epoch 42/50\n",
      "4/4 [==============================] - 0s 8ms/step - loss: 0.0135 - accuracy: 0.9833 - val_loss: 0.0983 - val_accuracy: 0.7333\n",
      "Epoch 43/50\n",
      "4/4 [==============================] - 0s 8ms/step - loss: 0.0135 - accuracy: 0.9833 - val_loss: 0.0980 - val_accuracy: 0.7333\n",
      "Epoch 44/50\n",
      "4/4 [==============================] - 0s 8ms/step - loss: 0.0135 - accuracy: 0.9833 - val_loss: 0.0953 - val_accuracy: 0.7333\n",
      "Epoch 45/50\n",
      "4/4 [==============================] - 0s 11ms/step - loss: 0.0135 - accuracy: 0.9833 - val_loss: 0.1018 - val_accuracy: 0.7000\n",
      "Epoch 46/50\n",
      "4/4 [==============================] - 0s 8ms/step - loss: 0.0133 - accuracy: 0.9833 - val_loss: 0.1003 - val_accuracy: 0.7000\n",
      "Epoch 47/50\n",
      "4/4 [==============================] - 0s 8ms/step - loss: 0.0134 - accuracy: 0.9833 - val_loss: 0.1046 - val_accuracy: 0.7000\n",
      "Epoch 48/50\n",
      "4/4 [==============================] - 0s 8ms/step - loss: 0.0133 - accuracy: 0.9833 - val_loss: 0.0991 - val_accuracy: 0.7333\n",
      "Epoch 49/50\n",
      "4/4 [==============================] - 0s 8ms/step - loss: 0.0132 - accuracy: 0.9833 - val_loss: 0.0995 - val_accuracy: 0.7000\n",
      "Epoch 50/50\n",
      "4/4 [==============================] - 0s 11ms/step - loss: 0.0131 - accuracy: 0.9833 - val_loss: 0.0961 - val_accuracy: 0.7333\n"
     ]
    },
    {
     "data": {
      "text/plain": [
       "<keras.callbacks.History at 0x14b63f5fc50>"
      ]
     },
     "execution_count": 12,
     "metadata": {},
     "output_type": "execute_result"
    }
   ],
   "source": [
    "# Train the model on the dataset\n",
    "model.fit(features, labels, epochs=50, validation_split=0.2)"
   ]
  }
 ],
 "metadata": {
  "kernelspec": {
   "display_name": "Python 3",
   "language": "python",
   "name": "python3"
  },
  "language_info": {
   "codemirror_mode": {
    "name": "ipython",
    "version": 3
   },
   "file_extension": ".py",
   "mimetype": "text/x-python",
   "name": "python",
   "nbconvert_exporter": "python",
   "pygments_lexer": "ipython3",
   "version": "3.11.2"
  },
  "orig_nbformat": 4
 },
 "nbformat": 4,
 "nbformat_minor": 2
}
