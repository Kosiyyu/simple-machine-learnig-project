{
 "cells": [
  {
   "cell_type": "code",
   "execution_count": 1,
   "metadata": {},
   "outputs": [],
   "source": [
    "import pandas as pd\n",
    "import tensorflow as tf"
   ]
  },
  {
   "cell_type": "code",
   "execution_count": 2,
   "metadata": {},
   "outputs": [],
   "source": [
    "# Load the dataset from the CSV file\n",
    "iris_data = pd.read_csv(\n",
    "    'iris.data',\n",
    "     header=None,\n",
    "      names=[\n",
    "        'sepal_length',\n",
    "         'sepal_width',\n",
    "          'petal_length',\n",
    "           'petal_width',\n",
    "            'species'],\n",
    "             sep=','\n",
    "    )"
   ]
  },
  {
   "cell_type": "code",
   "execution_count": 3,
   "metadata": {},
   "outputs": [],
   "source": [
    "# Split the dataset into features and labels\n",
    "features = iris_data.drop('species', axis=1)\n",
    "labels = pd.get_dummies(iris_data['species'])"
   ]
  },
  {
   "cell_type": "code",
   "execution_count": 4,
   "metadata": {},
   "outputs": [],
   "source": [
    "# Define the neural network architecture\n",
    "model = tf.keras.models.Sequential([\n",
    "    tf.keras.layers.Dense(10, activation='relu', input_shape=(4,)),\n",
    "    tf.keras.layers.Dense(3, activation='softmax')\n",
    "])"
   ]
  },
  {
   "cell_type": "code",
   "execution_count": 5,
   "metadata": {},
   "outputs": [],
   "source": [
    "# Compile the model with an appropriate loss function and optimizer\n",
    "model.compile(loss='categorical_crossentropy', optimizer='adam', metrics=['accuracy'])"
   ]
  },
  {
   "cell_type": "code",
   "execution_count": 6,
   "metadata": {},
   "outputs": [
    {
     "name": "stdout",
     "output_type": "stream",
     "text": [
      "Epoch 1/50\n",
      "4/4 [==============================] - 1s 59ms/step - loss: 3.3553 - accuracy: 0.4167 - val_loss: 8.0100 - val_accuracy: 0.0000e+00\n",
      "Epoch 2/50\n",
      "4/4 [==============================] - 0s 8ms/step - loss: 3.1918 - accuracy: 0.4167 - val_loss: 7.7266 - val_accuracy: 0.0000e+00\n",
      "Epoch 3/50\n",
      "4/4 [==============================] - 0s 11ms/step - loss: 3.0408 - accuracy: 0.4167 - val_loss: 7.4555 - val_accuracy: 0.0000e+00\n",
      "Epoch 4/50\n",
      "4/4 [==============================] - 0s 11ms/step - loss: 2.8897 - accuracy: 0.4167 - val_loss: 7.1933 - val_accuracy: 0.0000e+00\n",
      "Epoch 5/50\n",
      "4/4 [==============================] - 0s 11ms/step - loss: 2.7492 - accuracy: 0.4167 - val_loss: 6.9413 - val_accuracy: 0.0000e+00\n",
      "Epoch 6/50\n",
      "4/4 [==============================] - 0s 11ms/step - loss: 2.6061 - accuracy: 0.4167 - val_loss: 6.6984 - val_accuracy: 0.0000e+00\n",
      "Epoch 7/50\n",
      "4/4 [==============================] - 0s 11ms/step - loss: 2.4734 - accuracy: 0.4167 - val_loss: 6.4640 - val_accuracy: 0.0000e+00\n",
      "Epoch 8/50\n",
      "4/4 [==============================] - 0s 11ms/step - loss: 2.3467 - accuracy: 0.4167 - val_loss: 6.2375 - val_accuracy: 0.0000e+00\n",
      "Epoch 9/50\n",
      "4/4 [==============================] - 0s 11ms/step - loss: 2.2214 - accuracy: 0.4167 - val_loss: 6.0146 - val_accuracy: 0.0000e+00\n",
      "Epoch 10/50\n",
      "4/4 [==============================] - 0s 11ms/step - loss: 2.1034 - accuracy: 0.4167 - val_loss: 5.8020 - val_accuracy: 0.0000e+00\n",
      "Epoch 11/50\n",
      "4/4 [==============================] - 0s 8ms/step - loss: 1.9921 - accuracy: 0.4167 - val_loss: 5.5968 - val_accuracy: 0.0000e+00\n",
      "Epoch 12/50\n",
      "4/4 [==============================] - 0s 11ms/step - loss: 1.8900 - accuracy: 0.4167 - val_loss: 5.3993 - val_accuracy: 0.0000e+00\n",
      "Epoch 13/50\n",
      "4/4 [==============================] - 0s 11ms/step - loss: 1.7865 - accuracy: 0.4167 - val_loss: 5.2114 - val_accuracy: 0.0000e+00\n",
      "Epoch 14/50\n",
      "4/4 [==============================] - 0s 11ms/step - loss: 1.7013 - accuracy: 0.4167 - val_loss: 5.0204 - val_accuracy: 0.0000e+00\n",
      "Epoch 15/50\n",
      "4/4 [==============================] - 0s 8ms/step - loss: 1.6114 - accuracy: 0.4167 - val_loss: 4.8354 - val_accuracy: 0.0000e+00\n",
      "Epoch 16/50\n",
      "4/4 [==============================] - 0s 11ms/step - loss: 1.5313 - accuracy: 0.4167 - val_loss: 4.6638 - val_accuracy: 0.0000e+00\n",
      "Epoch 17/50\n",
      "4/4 [==============================] - 0s 11ms/step - loss: 1.4604 - accuracy: 0.4167 - val_loss: 4.4904 - val_accuracy: 0.0000e+00\n",
      "Epoch 18/50\n",
      "4/4 [==============================] - 0s 13ms/step - loss: 1.3940 - accuracy: 0.4167 - val_loss: 4.3243 - val_accuracy: 0.0000e+00\n",
      "Epoch 19/50\n",
      "4/4 [==============================] - 0s 11ms/step - loss: 1.3350 - accuracy: 0.4167 - val_loss: 4.1612 - val_accuracy: 0.0000e+00\n",
      "Epoch 20/50\n",
      "4/4 [==============================] - 0s 11ms/step - loss: 1.2825 - accuracy: 0.4167 - val_loss: 4.0043 - val_accuracy: 0.0000e+00\n",
      "Epoch 21/50\n",
      "4/4 [==============================] - 0s 8ms/step - loss: 1.2341 - accuracy: 0.4167 - val_loss: 3.8462 - val_accuracy: 0.0000e+00\n",
      "Epoch 22/50\n",
      "4/4 [==============================] - 0s 8ms/step - loss: 1.1891 - accuracy: 0.4167 - val_loss: 3.6915 - val_accuracy: 0.0000e+00\n",
      "Epoch 23/50\n",
      "4/4 [==============================] - 0s 11ms/step - loss: 1.1449 - accuracy: 0.4167 - val_loss: 3.5468 - val_accuracy: 0.0000e+00\n",
      "Epoch 24/50\n",
      "4/4 [==============================] - 0s 11ms/step - loss: 1.1061 - accuracy: 0.4167 - val_loss: 3.4026 - val_accuracy: 0.0000e+00\n",
      "Epoch 25/50\n",
      "4/4 [==============================] - 0s 8ms/step - loss: 1.0690 - accuracy: 0.4167 - val_loss: 3.2584 - val_accuracy: 0.0000e+00\n",
      "Epoch 26/50\n",
      "4/4 [==============================] - 0s 8ms/step - loss: 1.0364 - accuracy: 0.4167 - val_loss: 3.1191 - val_accuracy: 0.0000e+00\n",
      "Epoch 27/50\n",
      "4/4 [==============================] - 0s 8ms/step - loss: 1.0022 - accuracy: 0.4167 - val_loss: 2.9844 - val_accuracy: 0.0000e+00\n",
      "Epoch 28/50\n",
      "4/4 [==============================] - 0s 8ms/step - loss: 0.9732 - accuracy: 0.4167 - val_loss: 2.8511 - val_accuracy: 0.0000e+00\n",
      "Epoch 29/50\n",
      "4/4 [==============================] - 0s 8ms/step - loss: 0.9448 - accuracy: 0.4167 - val_loss: 2.7256 - val_accuracy: 0.0000e+00\n",
      "Epoch 30/50\n",
      "4/4 [==============================] - 0s 8ms/step - loss: 0.9181 - accuracy: 0.4167 - val_loss: 2.6020 - val_accuracy: 0.0000e+00\n",
      "Epoch 31/50\n",
      "4/4 [==============================] - 0s 11ms/step - loss: 0.8949 - accuracy: 0.4583 - val_loss: 2.4805 - val_accuracy: 0.0000e+00\n",
      "Epoch 32/50\n",
      "4/4 [==============================] - 0s 9ms/step - loss: 0.8715 - accuracy: 0.5250 - val_loss: 2.3657 - val_accuracy: 0.0000e+00\n",
      "Epoch 33/50\n",
      "4/4 [==============================] - 0s 10ms/step - loss: 0.8493 - accuracy: 0.5583 - val_loss: 2.2574 - val_accuracy: 0.0000e+00\n",
      "Epoch 34/50\n",
      "4/4 [==============================] - 0s 9ms/step - loss: 0.8327 - accuracy: 0.6333 - val_loss: 2.1493 - val_accuracy: 0.0000e+00\n",
      "Epoch 35/50\n",
      "4/4 [==============================] - 0s 9ms/step - loss: 0.8125 - accuracy: 0.7000 - val_loss: 2.0558 - val_accuracy: 0.0000e+00\n",
      "Epoch 36/50\n",
      "4/4 [==============================] - 0s 8ms/step - loss: 0.7954 - accuracy: 0.7417 - val_loss: 1.9670 - val_accuracy: 0.0000e+00\n",
      "Epoch 37/50\n",
      "4/4 [==============================] - 0s 9ms/step - loss: 0.7818 - accuracy: 0.8000 - val_loss: 1.8796 - val_accuracy: 0.0000e+00\n",
      "Epoch 38/50\n",
      "4/4 [==============================] - 0s 10ms/step - loss: 0.7701 - accuracy: 0.8167 - val_loss: 1.7970 - val_accuracy: 0.0000e+00\n",
      "Epoch 39/50\n",
      "4/4 [==============================] - 0s 10ms/step - loss: 0.7579 - accuracy: 0.8167 - val_loss: 1.7227 - val_accuracy: 0.0000e+00\n",
      "Epoch 40/50\n",
      "4/4 [==============================] - 0s 9ms/step - loss: 0.7467 - accuracy: 0.8167 - val_loss: 1.6555 - val_accuracy: 0.0000e+00\n",
      "Epoch 41/50\n",
      "4/4 [==============================] - 0s 9ms/step - loss: 0.7370 - accuracy: 0.8250 - val_loss: 1.5935 - val_accuracy: 0.0000e+00\n",
      "Epoch 42/50\n",
      "4/4 [==============================] - 0s 8ms/step - loss: 0.7288 - accuracy: 0.8250 - val_loss: 1.5322 - val_accuracy: 0.0000e+00\n",
      "Epoch 43/50\n",
      "4/4 [==============================] - 0s 9ms/step - loss: 0.7209 - accuracy: 0.8250 - val_loss: 1.4785 - val_accuracy: 0.0000e+00\n",
      "Epoch 44/50\n",
      "4/4 [==============================] - 0s 10ms/step - loss: 0.7143 - accuracy: 0.8333 - val_loss: 1.4263 - val_accuracy: 0.0000e+00\n",
      "Epoch 45/50\n",
      "4/4 [==============================] - 0s 9ms/step - loss: 0.7086 - accuracy: 0.8333 - val_loss: 1.3767 - val_accuracy: 0.0000e+00\n",
      "Epoch 46/50\n",
      "4/4 [==============================] - 0s 9ms/step - loss: 0.7025 - accuracy: 0.8333 - val_loss: 1.3392 - val_accuracy: 0.0000e+00\n",
      "Epoch 47/50\n",
      "4/4 [==============================] - 0s 9ms/step - loss: 0.6968 - accuracy: 0.8333 - val_loss: 1.3072 - val_accuracy: 0.0000e+00\n",
      "Epoch 48/50\n",
      "4/4 [==============================] - 0s 9ms/step - loss: 0.6920 - accuracy: 0.8333 - val_loss: 1.2800 - val_accuracy: 0.0000e+00\n",
      "Epoch 49/50\n",
      "4/4 [==============================] - 0s 10ms/step - loss: 0.6867 - accuracy: 0.8333 - val_loss: 1.2590 - val_accuracy: 0.0000e+00\n",
      "Epoch 50/50\n",
      "4/4 [==============================] - 0s 13ms/step - loss: 0.6822 - accuracy: 0.8333 - val_loss: 1.2425 - val_accuracy: 0.0000e+00\n"
     ]
    },
    {
     "data": {
      "text/plain": [
       "<keras.callbacks.History at 0x29a375f4cd0>"
      ]
     },
     "execution_count": 6,
     "metadata": {},
     "output_type": "execute_result"
    }
   ],
   "source": [
    "# Train the model on the dataset\n",
    "model.fit(features, labels, epochs=50, validation_split=0.2)"
   ]
  }
 ],
 "metadata": {
  "kernelspec": {
   "display_name": "Python 3",
   "language": "python",
   "name": "python3"
  },
  "language_info": {
   "codemirror_mode": {
    "name": "ipython",
    "version": 3
   },
   "file_extension": ".py",
   "mimetype": "text/x-python",
   "name": "python",
   "nbconvert_exporter": "python",
   "pygments_lexer": "ipython3",
   "version": "3.11.2"
  },
  "orig_nbformat": 4
 },
 "nbformat": 4,
 "nbformat_minor": 2
}
